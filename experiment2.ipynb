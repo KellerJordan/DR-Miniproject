{
 "cells": [
  {
   "cell_type": "code",
   "execution_count": 1,
   "metadata": {},
   "outputs": [],
   "source": [
    "import pandas as pd\n",
    "import numpy as np\n",
    "import time,os,sys,itertools\n",
    "from collections import *\n",
    "from sklearn.decomposition import PCA\n",
    "from sklearn.manifold import TSNE\n",
    "import matplotlib.pyplot as plt\n",
    "import seaborn as sns\n",
    "%matplotlib inline\n",
    "import trimap\n",
    "from importlib import reload\n",
    "import metrics\n",
    "reload(metrics)\n",
    "from metrics import Metrics\n",
    "from sklearn.neighbors import NearestNeighbors as knn"
   ]
  },
  {
   "cell_type": "code",
   "execution_count": 2,
   "metadata": {},
   "outputs": [
    {
     "name": "stdout",
     "output_type": "stream",
     "text": [
      "7797 rows, 617 columns\n"
     ]
    }
   ],
   "source": [
    "#data_1 = pd.read_csv('data/isolet5.data',header = None)\n",
    "#data_2 = pd.read_csv('data/isolet1+2+3+4.data',header = None)\n",
    "#data = pd.concat(data_1,data_2, axis = 0)\n",
    "data = pd.read_csv('data/data.csv',header = None, low_memory = False)\n",
    "labels = pd.read_csv('data/labels.csv',header = None, low_memory = False)\n",
    "print(\"{0} rows, {1} columns\".format(data.shape[0],data.shape[1]))"
   ]
  },
  {
   "cell_type": "code",
   "execution_count": 3,
   "metadata": {},
   "outputs": [],
   "source": [
    "#x,y = data.iloc[:,:-1], data.iloc[:,-1] # getting labels and features\n",
    "X = np.asarray(data)\n",
    "Y = np.asarray(labels)\n",
    "#del x,y,data"
   ]
  },
  {
   "cell_type": "code",
   "execution_count": 4,
   "metadata": {},
   "outputs": [
    {
     "name": "stdout",
     "output_type": "stream",
     "text": [
      "(7797, 617) (7797, 1)\n"
     ]
    }
   ],
   "source": [
    "print(X.shape,Y.shape)#,x.shape,y.shape)\n"
   ]
  },
  {
   "cell_type": "code",
   "execution_count": 5,
   "metadata": {},
   "outputs": [],
   "source": [
    "# Function to draw visualization of distance between embeddings.\n",
    "def plot_with_labels(low_dim_embs, labels, title = \"random\"):\n",
    "\tassert low_dim_embs.shape[0] >= len(labels), 'More labels than embeddings'\n",
    "\tplt.figure(figsize=(20,20))  # in inches\n",
    "\tplt.title(str(title))#\"perplexity = {0}, n_iterations = {1}\".format(perplexity,n_iters))\n",
    "\tfor i, label in enumerate(labels):\n",
    "\t\tx, y = low_dim_embs[i, :]\n",
    "\t\tplt.scatter(x, y)\n",
    "\t\tplt.annotate(label,\n",
    "\t\t\t\t\t\t\t\t xy=(x, y),\n",
    "\t\t\t\t\t\t\t\t xytext=(5, 2),\n",
    "\t\t\t\t\t\t\t\t textcoords='offset points',\n",
    "\t\t\t\t\t\t\t\t ha='right',\n",
    "\t\t\t\t\t\t\t\t va='bottom')\n",
    "\t#plt.title(\"tsne direct \"+str(title))\n",
    "\t#plt.scatter(low_dim_embs[:,0],low_dim_embs[:,1],26,labels)"
   ]
  },
  {
   "cell_type": "code",
   "execution_count": 6,
   "metadata": {},
   "outputs": [],
   "source": [
    "def drawProgressBar(percent, barLen = 50):\n",
    "\tsys.stdout.write(\"\\r\")\n",
    "\tprogress = \"\"\n",
    "\tfor i in range(barLen):\n",
    "\t\tif i<int(barLen * percent):\n",
    "\t\t\tprogress += \"=\"\n",
    "\t\telse:\n",
    "\t\t\tprogress += \" \"\n",
    "\tsys.stdout.write(\"[ %s ] %.2f%%\" % (progress, percent * 100))\n",
    "\tsys.stdout.flush()"
   ]
  },
  {
   "cell_type": "code",
   "execution_count": 7,
   "metadata": {},
   "outputs": [],
   "source": [
    "_, nbrs_input = knn(n_neighbors=X.shape[0]).fit(X).kneighbors(X)\n",
    "\n",
    "#metrics_tsne = Metrics(nbrs_input, Y_tsne)\n",
    "#metrics_largevis = Metrics(nbrs_input, Y_largevis)\n",
    "#metrics_trimap = Metrics(nbrs_input, Y_trimap)"
   ]
  },
  {
   "cell_type": "code",
   "execution_count": 8,
   "metadata": {},
   "outputs": [],
   "source": [
    "def tsne(X, Y,initial_dims=2, max_iter=2000, perplexity=30.0, verbose = True):\n",
    "    tsne = TSNE(n_components=2, verbose=verbose, perplexity=perplexity, n_iter=max_iter)\n",
    "    X_embedded = tsne.fit_transform(X)\n",
    "    #plt.plot()\n",
    "    return X_embedded"
   ]
  },
  {
   "cell_type": "markdown",
   "metadata": {},
   "source": [
    "#### BLOCK FOR WALKING THROUGH PERPLEXITIES AND ITERATIONS"
   ]
  },
  {
   "cell_type": "code",
   "execution_count": 11,
   "metadata": {},
   "outputs": [
    {
     "name": "stdout",
     "output_type": "stream",
     "text": [
      "[ ==========                                         ] 20.00%"
     ]
    },
    {
     "ename": "KeyboardInterrupt",
     "evalue": "",
     "output_type": "error",
     "traceback": [
      "\u001b[0;31m---------------------------------------------------------------------------\u001b[0m",
      "\u001b[0;31mKeyboardInterrupt\u001b[0m                         Traceback (most recent call last)",
      "\u001b[0;32m<ipython-input-11-255f0604a7af>\u001b[0m in \u001b[0;36m<module>\u001b[0;34m()\u001b[0m\n\u001b[1;32m      4\u001b[0m \u001b[0mcounter\u001b[0m \u001b[0;34m=\u001b[0m \u001b[0;36m0\u001b[0m\u001b[0;34m\u001b[0m\u001b[0m\n\u001b[1;32m      5\u001b[0m \u001b[0;32mfor\u001b[0m \u001b[0mperplexity\u001b[0m \u001b[0;32min\u001b[0m \u001b[0mperplexities\u001b[0m\u001b[0;34m:\u001b[0m\u001b[0;34m\u001b[0m\u001b[0m\n\u001b[0;32m----> 6\u001b[0;31m     \u001b[0mresults_tsne\u001b[0m\u001b[0;34m[\u001b[0m\u001b[0mperplexity\u001b[0m\u001b[0;34m]\u001b[0m \u001b[0;34m=\u001b[0m \u001b[0mtsne\u001b[0m\u001b[0;34m(\u001b[0m\u001b[0mX\u001b[0m\u001b[0;34m,\u001b[0m\u001b[0mY\u001b[0m\u001b[0;34m,\u001b[0m\u001b[0mmax_iter\u001b[0m \u001b[0;34m=\u001b[0m \u001b[0;36m1000\u001b[0m\u001b[0;34m,\u001b[0m\u001b[0mperplexity\u001b[0m \u001b[0;34m=\u001b[0m \u001b[0mperplexity\u001b[0m\u001b[0;34m,\u001b[0m\u001b[0mverbose\u001b[0m \u001b[0;34m=\u001b[0m \u001b[0;32mFalse\u001b[0m\u001b[0;34m)\u001b[0m\u001b[0;34m\u001b[0m\u001b[0m\n\u001b[0m\u001b[1;32m      7\u001b[0m     \u001b[0mdrawProgressBar\u001b[0m\u001b[0;34m(\u001b[0m\u001b[0mint\u001b[0m\u001b[0;34m(\u001b[0m\u001b[0mcounter\u001b[0m\u001b[0;34m+\u001b[0m\u001b[0;36m1\u001b[0m\u001b[0;34m)\u001b[0m\u001b[0;34m/\u001b[0m\u001b[0;36m5\u001b[0m\u001b[0;34m)\u001b[0m\u001b[0;34m\u001b[0m\u001b[0m\n\u001b[1;32m      8\u001b[0m \u001b[0mend\u001b[0m \u001b[0;34m=\u001b[0m \u001b[0mtime\u001b[0m\u001b[0;34m.\u001b[0m\u001b[0mtime\u001b[0m\u001b[0;34m(\u001b[0m\u001b[0;34m)\u001b[0m\u001b[0;34m\u001b[0m\u001b[0m\n",
      "\u001b[0;32m<ipython-input-8-74c2cc094d3d>\u001b[0m in \u001b[0;36mtsne\u001b[0;34m(X, Y, initial_dims, max_iter, perplexity, verbose)\u001b[0m\n\u001b[1;32m      1\u001b[0m \u001b[0;32mdef\u001b[0m \u001b[0mtsne\u001b[0m\u001b[0;34m(\u001b[0m\u001b[0mX\u001b[0m\u001b[0;34m,\u001b[0m \u001b[0mY\u001b[0m\u001b[0;34m,\u001b[0m\u001b[0minitial_dims\u001b[0m\u001b[0;34m=\u001b[0m\u001b[0;36m2\u001b[0m\u001b[0;34m,\u001b[0m \u001b[0mmax_iter\u001b[0m\u001b[0;34m=\u001b[0m\u001b[0;36m2000\u001b[0m\u001b[0;34m,\u001b[0m \u001b[0mperplexity\u001b[0m\u001b[0;34m=\u001b[0m\u001b[0;36m30.0\u001b[0m\u001b[0;34m,\u001b[0m \u001b[0mverbose\u001b[0m \u001b[0;34m=\u001b[0m \u001b[0;32mTrue\u001b[0m\u001b[0;34m)\u001b[0m\u001b[0;34m:\u001b[0m\u001b[0;34m\u001b[0m\u001b[0m\n\u001b[1;32m      2\u001b[0m     \u001b[0mtsne\u001b[0m \u001b[0;34m=\u001b[0m \u001b[0mTSNE\u001b[0m\u001b[0;34m(\u001b[0m\u001b[0mn_components\u001b[0m\u001b[0;34m=\u001b[0m\u001b[0;36m2\u001b[0m\u001b[0;34m,\u001b[0m \u001b[0mverbose\u001b[0m\u001b[0;34m=\u001b[0m\u001b[0mverbose\u001b[0m\u001b[0;34m,\u001b[0m \u001b[0mperplexity\u001b[0m\u001b[0;34m=\u001b[0m\u001b[0mperplexity\u001b[0m\u001b[0;34m,\u001b[0m \u001b[0mn_iter\u001b[0m\u001b[0;34m=\u001b[0m\u001b[0mmax_iter\u001b[0m\u001b[0;34m)\u001b[0m\u001b[0;34m\u001b[0m\u001b[0m\n\u001b[0;32m----> 3\u001b[0;31m     \u001b[0mX_embedded\u001b[0m \u001b[0;34m=\u001b[0m \u001b[0mtsne\u001b[0m\u001b[0;34m.\u001b[0m\u001b[0mfit_transform\u001b[0m\u001b[0;34m(\u001b[0m\u001b[0mX\u001b[0m\u001b[0;34m)\u001b[0m\u001b[0;34m\u001b[0m\u001b[0m\n\u001b[0m\u001b[1;32m      4\u001b[0m     \u001b[0;31m#plt.plot()\u001b[0m\u001b[0;34m\u001b[0m\u001b[0;34m\u001b[0m\u001b[0m\n\u001b[1;32m      5\u001b[0m     \u001b[0;32mreturn\u001b[0m \u001b[0mX_embedded\u001b[0m\u001b[0;34m\u001b[0m\u001b[0m\n",
      "\u001b[0;32m~/.local/lib/python3.5/site-packages/sklearn/manifold/t_sne.py\u001b[0m in \u001b[0;36mfit_transform\u001b[0;34m(self, X, y)\u001b[0m\n\u001b[1;32m    857\u001b[0m             \u001b[0mEmbedding\u001b[0m \u001b[0mof\u001b[0m \u001b[0mthe\u001b[0m \u001b[0mtraining\u001b[0m \u001b[0mdata\u001b[0m \u001b[0;32min\u001b[0m \u001b[0mlow\u001b[0m\u001b[0;34m-\u001b[0m\u001b[0mdimensional\u001b[0m \u001b[0mspace\u001b[0m\u001b[0;34m.\u001b[0m\u001b[0;34m\u001b[0m\u001b[0m\n\u001b[1;32m    858\u001b[0m         \"\"\"\n\u001b[0;32m--> 859\u001b[0;31m         \u001b[0membedding\u001b[0m \u001b[0;34m=\u001b[0m \u001b[0mself\u001b[0m\u001b[0;34m.\u001b[0m\u001b[0m_fit\u001b[0m\u001b[0;34m(\u001b[0m\u001b[0mX\u001b[0m\u001b[0;34m)\u001b[0m\u001b[0;34m\u001b[0m\u001b[0m\n\u001b[0m\u001b[1;32m    860\u001b[0m         \u001b[0mself\u001b[0m\u001b[0;34m.\u001b[0m\u001b[0membedding_\u001b[0m \u001b[0;34m=\u001b[0m \u001b[0membedding\u001b[0m\u001b[0;34m\u001b[0m\u001b[0m\n\u001b[1;32m    861\u001b[0m         \u001b[0;32mreturn\u001b[0m \u001b[0mself\u001b[0m\u001b[0;34m.\u001b[0m\u001b[0membedding_\u001b[0m\u001b[0;34m\u001b[0m\u001b[0m\n",
      "\u001b[0;32m~/.local/lib/python3.5/site-packages/sklearn/manifold/t_sne.py\u001b[0m in \u001b[0;36m_fit\u001b[0;34m(self, X, skip_num_points)\u001b[0m\n\u001b[1;32m    771\u001b[0m                           \u001b[0mX_embedded\u001b[0m\u001b[0;34m=\u001b[0m\u001b[0mX_embedded\u001b[0m\u001b[0;34m,\u001b[0m\u001b[0;34m\u001b[0m\u001b[0m\n\u001b[1;32m    772\u001b[0m                           \u001b[0mneighbors\u001b[0m\u001b[0;34m=\u001b[0m\u001b[0mneighbors_nn\u001b[0m\u001b[0;34m,\u001b[0m\u001b[0;34m\u001b[0m\u001b[0m\n\u001b[0;32m--> 773\u001b[0;31m                           skip_num_points=skip_num_points)\n\u001b[0m\u001b[1;32m    774\u001b[0m \u001b[0;34m\u001b[0m\u001b[0m\n\u001b[1;32m    775\u001b[0m     \u001b[0;34m@\u001b[0m\u001b[0mproperty\u001b[0m\u001b[0;34m\u001b[0m\u001b[0m\n",
      "\u001b[0;32m~/.local/lib/python3.5/site-packages/sklearn/manifold/t_sne.py\u001b[0m in \u001b[0;36m_tsne\u001b[0;34m(self, P, degrees_of_freedom, n_samples, random_state, X_embedded, neighbors, skip_num_points)\u001b[0m\n\u001b[1;32m    828\u001b[0m             \u001b[0mopt_args\u001b[0m\u001b[0;34m[\u001b[0m\u001b[0;34m'n_iter_without_progress'\u001b[0m\u001b[0;34m]\u001b[0m \u001b[0;34m=\u001b[0m \u001b[0mself\u001b[0m\u001b[0;34m.\u001b[0m\u001b[0mn_iter_without_progress\u001b[0m\u001b[0;34m\u001b[0m\u001b[0m\n\u001b[1;32m    829\u001b[0m             params, kl_divergence, it = _gradient_descent(obj_func, params,\n\u001b[0;32m--> 830\u001b[0;31m                                                           **opt_args)\n\u001b[0m\u001b[1;32m    831\u001b[0m \u001b[0;34m\u001b[0m\u001b[0m\n\u001b[1;32m    832\u001b[0m         \u001b[0;31m# Save the final number of iterations\u001b[0m\u001b[0;34m\u001b[0m\u001b[0;34m\u001b[0m\u001b[0m\n",
      "\u001b[0;32m~/.local/lib/python3.5/site-packages/sklearn/manifold/t_sne.py\u001b[0m in \u001b[0;36m_gradient_descent\u001b[0;34m(objective, p0, it, n_iter, n_iter_check, n_iter_without_progress, momentum, learning_rate, min_gain, min_grad_norm, verbose, args, kwargs)\u001b[0m\n\u001b[1;32m    337\u001b[0m     \u001b[0mtic\u001b[0m \u001b[0;34m=\u001b[0m \u001b[0mtime\u001b[0m\u001b[0;34m(\u001b[0m\u001b[0;34m)\u001b[0m\u001b[0;34m\u001b[0m\u001b[0m\n\u001b[1;32m    338\u001b[0m     \u001b[0;32mfor\u001b[0m \u001b[0mi\u001b[0m \u001b[0;32min\u001b[0m \u001b[0mrange\u001b[0m\u001b[0;34m(\u001b[0m\u001b[0mit\u001b[0m\u001b[0;34m,\u001b[0m \u001b[0mn_iter\u001b[0m\u001b[0;34m)\u001b[0m\u001b[0;34m:\u001b[0m\u001b[0;34m\u001b[0m\u001b[0m\n\u001b[0;32m--> 339\u001b[0;31m         \u001b[0merror\u001b[0m\u001b[0;34m,\u001b[0m \u001b[0mgrad\u001b[0m \u001b[0;34m=\u001b[0m \u001b[0mobjective\u001b[0m\u001b[0;34m(\u001b[0m\u001b[0mp\u001b[0m\u001b[0;34m,\u001b[0m \u001b[0;34m*\u001b[0m\u001b[0margs\u001b[0m\u001b[0;34m,\u001b[0m \u001b[0;34m**\u001b[0m\u001b[0mkwargs\u001b[0m\u001b[0;34m)\u001b[0m\u001b[0;34m\u001b[0m\u001b[0m\n\u001b[0m\u001b[1;32m    340\u001b[0m         \u001b[0mgrad_norm\u001b[0m \u001b[0;34m=\u001b[0m \u001b[0mlinalg\u001b[0m\u001b[0;34m.\u001b[0m\u001b[0mnorm\u001b[0m\u001b[0;34m(\u001b[0m\u001b[0mgrad\u001b[0m\u001b[0;34m)\u001b[0m\u001b[0;34m\u001b[0m\u001b[0m\n\u001b[1;32m    341\u001b[0m \u001b[0;34m\u001b[0m\u001b[0m\n",
      "\u001b[0;32m~/.local/lib/python3.5/site-packages/sklearn/manifold/t_sne.py\u001b[0m in \u001b[0;36m_kl_divergence_bh\u001b[0;34m(params, P, degrees_of_freedom, n_samples, n_components, angle, skip_num_points, verbose)\u001b[0m\n\u001b[1;32m    245\u001b[0m     error = _barnes_hut_tsne.gradient(val_P, X_embedded, neighbors, indptr,\n\u001b[1;32m    246\u001b[0m                                       \u001b[0mgrad\u001b[0m\u001b[0;34m,\u001b[0m \u001b[0mangle\u001b[0m\u001b[0;34m,\u001b[0m \u001b[0mn_components\u001b[0m\u001b[0;34m,\u001b[0m \u001b[0mverbose\u001b[0m\u001b[0;34m,\u001b[0m\u001b[0;34m\u001b[0m\u001b[0m\n\u001b[0;32m--> 247\u001b[0;31m                                       dof=degrees_of_freedom)\n\u001b[0m\u001b[1;32m    248\u001b[0m     \u001b[0mc\u001b[0m \u001b[0;34m=\u001b[0m \u001b[0;36m2.0\u001b[0m \u001b[0;34m*\u001b[0m \u001b[0;34m(\u001b[0m\u001b[0mdegrees_of_freedom\u001b[0m \u001b[0;34m+\u001b[0m \u001b[0;36m1.0\u001b[0m\u001b[0;34m)\u001b[0m \u001b[0;34m/\u001b[0m \u001b[0mdegrees_of_freedom\u001b[0m\u001b[0;34m\u001b[0m\u001b[0m\n\u001b[1;32m    249\u001b[0m     \u001b[0mgrad\u001b[0m \u001b[0;34m=\u001b[0m \u001b[0mgrad\u001b[0m\u001b[0;34m.\u001b[0m\u001b[0mravel\u001b[0m\u001b[0;34m(\u001b[0m\u001b[0;34m)\u001b[0m\u001b[0;34m\u001b[0m\u001b[0m\n",
      "\u001b[0;31mKeyboardInterrupt\u001b[0m: "
     ]
    }
   ],
   "source": [
    "perplexities = [20,30,40,50,60]\n",
    "results_tsne = {}\n",
    "start = time.time()\n",
    "counter = 0\n",
    "for perplexity in perplexities:\n",
    "    results_tsne[perplexity] = tsne(X,Y,max_iter = 1000,perplexity = perplexity,verbose = False)\n",
    "    drawProgressBar(int(counter+1)/5)\n",
    "end = time.time()\n",
    "print(\"Time taken:{}\".format(end-start))\n",
    "#plot_with_labels(X_embedded, Y,title = \"distances with perplexity = {0}, n_iterations = {1}\".format(perplexity,n_iters))"
   ]
  },
  {
   "cell_type": "markdown",
   "metadata": {},
   "source": [
    "##### Take Away  (all results are single run with 1000 iterations):\n",
    "###### Error with perplexity =  20 : 1.45\n",
    "###### Error with perplexity =  30 : 1.37\n",
    "###### Error with perplexity =  40 : 1.33\n",
    "###### Error with perplexity =  50 : 1.27\n",
    "###### Error with perplexity =  60 : 1.22"
   ]
  },
  {
   "cell_type": "code",
   "execution_count": null,
   "metadata": {},
   "outputs": [],
   "source": [
    "len(results_tsne)"
   ]
  },
  {
   "cell_type": "code",
   "execution_count": null,
   "metadata": {},
   "outputs": [],
   "source": [
    "#tp_tsne, fp_tsne = metrics_tsne.roc_metrics()\n",
    "#precision_tsne, recall_tsne = metrics_tsne.mean_precision_recall()\n",
    "#trust_tsne, cont_tsne = metrics_tsne.trustworthiness_continuity()\n",
    "\n",
    "metrics_tsne = [Metrics(nbrs_input,results_tsne[i]) for i in results_tsne]"
   ]
  },
  {
   "cell_type": "code",
   "execution_count": null,
   "metadata": {},
   "outputs": [],
   "source": [
    "metrics_tsne"
   ]
  },
  {
   "cell_type": "code",
   "execution_count": null,
   "metadata": {},
   "outputs": [],
   "source": [
    "t_ = []\n",
    "t_.append([metrics_tsne[i].roc_metrics() for i in range(5)])"
   ]
  },
  {
   "cell_type": "code",
   "execution_count": null,
   "metadata": {},
   "outputs": [],
   "source": [
    "len(t_)"
   ]
  },
  {
   "cell_type": "code",
   "execution_count": null,
   "metadata": {},
   "outputs": [],
   "source": [
    "prec_tsne = [] #array to store precision, recalls for all tsne results\n",
    "prec_tsne.append([metrics_tsne[i].mean_precision_recall() for i in range(5)])\n",
    "tc_tsne = []\n",
    "tc_tsne.append([metrics_tsne[i].trustworthiness_continuity() for i in range(5)])"
   ]
  },
  {
   "cell_type": "code",
   "execution_count": null,
   "metadata": {},
   "outputs": [],
   "source": [
    "def plot_embedding(Y, labels, title):\n",
    "    fig = plt.figure(figsize=(10, 10))\n",
    "    plt.scatter(Y[:, 0], Y[:, 1], 20, labels)\n",
    "    plt.title(title)"
   ]
  },
  {
   "cell_type": "code",
   "execution_count": null,
   "metadata": {},
   "outputs": [],
   "source": [
    "len(tc_tsne[0][1])"
   ]
  },
  {
   "cell_type": "code",
   "execution_count": null,
   "metadata": {},
   "outputs": [],
   "source": [
    "plt.figure(figsize=(10,10))\n",
    "plt.plot(t_[0][0][1],t_[0][0][0],label = \"{0} perplexity\".format(perplexities[0]))\n",
    "plt.plot(t_[0][1][1],t_[0][1][0],label = \"{0} perplexity\".format(perplexities[1]))\n",
    "plt.plot(t_[0][2][1],t_[0][2][0],label = \"{0} perplexity\".format(perplexities[2]))\n",
    "plt.plot(t_[0][3][1],t_[0][3][0],label = \"{0} perplexity\".format(perplexities[3]))\n",
    "plt.plot(t_[0][4][1],t_[0][4][0],label = \"{0} perplexity\".format(perplexities[4]))\n",
    "plt.title(\"t-SNE roc wrt perplexity \")\n",
    "plt.legend()"
   ]
  },
  {
   "cell_type": "code",
   "execution_count": null,
   "metadata": {},
   "outputs": [],
   "source": [
    "plt.figure(figsize=(10,10))\n",
    "plt.plot(tc_tsne[0][0][1],tc_tsne[0][0][0],label = \"{0} perplexity\".format(perplexities[0]))\n",
    "plt.plot(tc_tsne[0][1][1],tc_tsne[0][1][0],label = \"{0} perplexity\".format(perplexities[1]))\n",
    "plt.plot(tc_tsne[0][2][1],tc_tsne[0][2][0],label = \"{0} perplexity\".format(perplexities[2]))\n",
    "plt.plot(tc_tsne[0][3][1],tc_tsne[0][3][0],label = \"{0} perplexity\".format(perplexities[3]))\n",
    "plt.plot(tc_tsne[0][4][1],tc_tsne[0][4][0],label = \"{0} perplexity\".format(perplexities[4]))\n",
    "plt.title(\"t-SNE trustworthiness wrt perplexity \")\n",
    "plt.legend()"
   ]
  },
  {
   "cell_type": "code",
   "execution_count": null,
   "metadata": {},
   "outputs": [],
   "source": [
    "plt.figure(figsize=(10,10))\n",
    "plt.plot(prec_tsne[0][0][1],prec_tsne[0][0][0],label = \"{0} perplexity\".format(perplexities[0]))\n",
    "plt.plot(prec_tsne[0][1][1],prec_tsne[0][1][0],label = \"{0} perplexity\".format(perplexities[1]))\n",
    "plt.plot(prec_tsne[0][2][1],prec_tsne[0][2][0],label = \"{0} perplexity\".format(perplexities[2]))\n",
    "plt.plot(prec_tsne[0][3][1],prec_tsne[0][3][0],label = \"{0} perplexity\".format(perplexities[3]))\n",
    "plt.plot(prec_tsne[0][4][1],prec_tsne[0][4][0],label = \"{0} perplexity\".format(perplexities[4]))\n",
    "plt.title(\"t-SNE Mean precision recall wrt perplexity \")\n",
    "plt.legend()"
   ]
  },
  {
   "cell_type": "code",
   "execution_count": null,
   "metadata": {},
   "outputs": [],
   "source": [
    "results_trimap = {}\n",
    "start = time.time()\n",
    "counter = 0\n",
    "for perplexity in perplexities:\n",
    "    drawProgressBar(int(counter)/5)\n",
    "    results_trimap[perplexity] = trimap.embed(X,kin = perplexity)\n",
    "end = time.time()\n",
    "print(\"Time taken:{}\".format(end-start))\n",
    "metrics_trimap = [Metrics(nbrs_input,results_trimap[i]) for i in results_trimap]\n",
    "roc_trimap = [] #array to store tp,fp for all trimap results\n",
    "roc_trimap.append([metrics_trimap[i].roc_metrics() for i in range(5)])\n",
    "prec_trimap = [] #array to store precision, recalls for all trimap results\n",
    "prec_trimap.append([metrics_trimap[i].mean_precision_recall() for i in range(5)])\n",
    "tc_trimap = [] #array to store precision, recalls for all trimap results\n",
    "tc_trimap.append([metrics_trimap[i].trustworthiness_continuity() for i in range(5)])"
   ]
  }
 ],
 "metadata": {
  "kernelspec": {
   "display_name": "Python 3",
   "language": "python",
   "name": "python3"
  },
  "language_info": {
   "codemirror_mode": {
    "name": "ipython",
    "version": 3
   },
   "file_extension": ".py",
   "mimetype": "text/x-python",
   "name": "python",
   "nbconvert_exporter": "python",
   "pygments_lexer": "ipython3",
   "version": "3.5.2"
  }
 },
 "nbformat": 4,
 "nbformat_minor": 2
}
