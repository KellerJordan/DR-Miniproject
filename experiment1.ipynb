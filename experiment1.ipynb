{
 "cells": [
  {
   "cell_type": "code",
   "execution_count": null,
   "metadata": {},
   "outputs": [],
   "source": [
    "from torch.optim.optimizer import Optimizer, required\n",
    "\n",
    "i = 0\n",
    "\n",
    "class SEG(Optimizer):\n",
    "    \n",
    "    def __init__(self, params, lr=required):\n",
    "        defaults = dict(lr=lr)\n",
    "        super(SEG, self).__init__(params, defaults)\n",
    "    \n",
    "    def __setstate__(self, state):\n",
    "        super(SEG, self).__setstate__(state)\n",
    "    \n",
    "    def step(self, closure=None):\n",
    "        \n",
    "        loss = None\n",
    "        if closure is not None:\n",
    "            loss = closure()\n",
    "        \n",
    "        for group in self.param_groups:\n",
    "            for p in group['params']:\n",
    "                if p.grad is None:\n",
    "                    continue\n",
    "                d_p = p.grad.data\n",
    "                \n",
    "                s_p = torch.exp(-group['lr'] * d_p)\n",
    "                global i\n",
    "                if i % 100 == 0:\n",
    "                    print(s_p.mean(), s_p.std())\n",
    "#                     p.data *= s_p\n",
    "                i += 1\n",
    "                \n",
    "#                 p.data -= group['lr'] * d_p\n",
    "                p.data *= s_p"
   ]
  },
  {
   "cell_type": "code",
   "execution_count": 4,
   "metadata": {},
   "outputs": [
    {
     "data": {
      "text/plain": [
       "(7797, 617)"
      ]
     },
     "execution_count": 4,
     "metadata": {},
     "output_type": "execute_result"
    }
   ],
   "source": [
    "import pandas as pd\n",
    "import numpy as np\n",
    "\n",
    "df1 = pd.read_csv('data/isolet1+2+3+4.data', header=None)\n",
    "df2 = pd.read_csv('data/isolet5.data', header=None)\n",
    "df = pd.concat([df1, df2], axis=0)\n",
    "X = np.array(df.iloc[:, :-1])\n",
    "labels = np.array(df.iloc[:, -1])\n",
    "\n",
    "np.savetxt('isolet.txt', X)\n",
    "X.shape"
   ]
  },
  {
   "cell_type": "code",
   "execution_count": 6,
   "metadata": {},
   "outputs": [
    {
     "data": {
      "text/plain": [
       "(5000, 1064)"
      ]
     },
     "execution_count": 6,
     "metadata": {},
     "output_type": "execute_result"
    }
   ],
   "source": [
    "X = np.loadtxt('data/mnist2500_X.txt')\n",
    "labels = np.loadtxt('data/mnist2500_labels.txt')\n",
    "\n",
    "n, dim = X.shape\n",
    "side = int(dim**.5)\n",
    "X = X.reshape(n, side, side)\n",
    "\n",
    "# X1: shifted 10 pixels to the left\n",
    "X1 = np.ones((n, 38, 28))\n",
    "# X2: shifted 10 pixels to the right\n",
    "X2 = np.ones((n, 38, 28))\n",
    "\n",
    "X1[:, :-10, :] = X\n",
    "X2[:, 10:, :] = X\n",
    "\n",
    "X1 = X1.reshape(n, 38*28)\n",
    "X2 = X2.reshape(n, 38*28)\n",
    "\n",
    "X = np.concatenate((X1, X2), 0)\n",
    "\n",
    "np.savetxt('mnist2500_shift_X.txt', X)\n",
    "X.shape"
   ]
  }
 ],
 "metadata": {
  "kernelspec": {
   "display_name": "Python 3",
   "language": "python",
   "name": "python3"
  },
  "language_info": {
   "codemirror_mode": {
    "name": "ipython",
    "version": 3
   },
   "file_extension": ".py",
   "mimetype": "text/x-python",
   "name": "python",
   "nbconvert_exporter": "python",
   "pygments_lexer": "ipython3",
   "version": "3.5.2"
  }
 },
 "nbformat": 4,
 "nbformat_minor": 2
}
