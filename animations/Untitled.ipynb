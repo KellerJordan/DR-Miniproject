{
 "cells": [
  {
   "cell_type": "markdown",
   "metadata": {},
   "source": [
    "\n",
    "<!--\n",
    "![sgd](animations/sgd.gif)\n",
    "![sgd-momentum](animations/sgd-momentum.gif)\n",
    "![adadelta](animations/adadelta.gif)\n",
    "![rmsprop](animations/rmsprop.gif)\n",
    "![adam](animations/adam.gif)\n",
    "-->\n",
    "\n",
    "\n",
    "![rmsprop](rmsprop1.gif)\n",
    "![rmsprop](rmsprop.gif)"
   ]
  }
 ],
 "metadata": {
  "kernelspec": {
   "display_name": "Python 3",
   "language": "python",
   "name": "python3"
  },
  "language_info": {
   "codemirror_mode": {
    "name": "ipython",
    "version": 3
   },
   "file_extension": ".py",
   "mimetype": "text/x-python",
   "name": "python",
   "nbconvert_exporter": "python",
   "pygments_lexer": "ipython3",
   "version": "3.5.2"
  }
 },
 "nbformat": 4,
 "nbformat_minor": 2
}
