{
 "cells": [
  {
   "cell_type": "code",
   "execution_count": null,
   "metadata": {},
   "outputs": [],
   "source": [
    "from torch.optim.optimizer import Optimizer, required\n",
    "\n",
    "i = 0\n",
    "\n",
    "class SEG(Optimizer):\n",
    "    \n",
    "    def __init__(self, params, lr=required):\n",
    "        defaults = dict(lr=lr)\n",
    "        super(SEG, self).__init__(params, defaults)\n",
    "    \n",
    "    def __setstate__(self, state):\n",
    "        super(SEG, self).__setstate__(state)\n",
    "    \n",
    "    def step(self, closure=None):\n",
    "        \n",
    "        loss = None\n",
    "        if closure is not None:\n",
    "            loss = closure()\n",
    "        \n",
    "        for group in self.param_groups:\n",
    "            for p in group['params']:\n",
    "                if p.grad is None:\n",
    "                    continue\n",
    "                d_p = p.grad.data\n",
    "                \n",
    "                s_p = torch.exp(-group['lr'] * d_p)\n",
    "                global i\n",
    "                if i % 100 == 0:\n",
    "                    print(s_p.mean(), s_p.std())\n",
    "#                     p.data *= s_p\n",
    "                i += 1\n",
    "                \n",
    "#                 p.data -= group['lr'] * d_p\n",
    "                p.data *= s_p"
   ]
  }
 ],
 "metadata": {
  "kernelspec": {
   "display_name": "Python 3",
   "language": "python",
   "name": "python3"
  },
  "language_info": {
   "codemirror_mode": {
    "name": "ipython",
    "version": 3
   },
   "file_extension": ".py",
   "mimetype": "text/x-python",
   "name": "python",
   "nbconvert_exporter": "python",
   "pygments_lexer": "ipython3",
   "version": "3.5.2"
  }
 },
 "nbformat": 4,
 "nbformat_minor": 2
}
