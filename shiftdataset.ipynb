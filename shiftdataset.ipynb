{
 "cells": [
  {
   "cell_type": "code",
   "execution_count": 48,
   "metadata": {},
   "outputs": [],
   "source": [
    "import numpy as np\n",
    "\n",
    "X = np.loadtxt('data/mnist2500_X.txt')\n",
    "labels = np.loadtxt('data/mnist2500_labels.txt')\n",
    "\n",
    "n, dim = X.shape\n",
    "side = int(dim**.5)\n",
    "X = X.reshape(n, side, side)"
   ]
  },
  {
   "cell_type": "code",
   "execution_count": 49,
   "metadata": {},
   "outputs": [],
   "source": [
    "# X1: shifted 10 pixels to the left\n",
    "X1 = np.ones((n, 38, 28))\n",
    "# X2: shifted 10 pixels to the right\n",
    "X2 = np.ones((n, 38, 28))\n",
    "\n",
    "X1[:, :-10, :] = X\n",
    "X2[:, 10:, :] = X\n",
    "\n",
    "X1 = X1.reshape(n, 38*28)\n",
    "X2 = X2.reshape(n, 38*28)\n",
    "\n",
    "X_shift = np.concatenate((X1, X2), 0)\n",
    "labels_shift = np.concatenate((labels.copy(), labels.copy()), 0)\n",
    "\n",
    "np.savetxt('data/mnist2500_X_shift.txt', X_shift)\n",
    "np.savetxt('data/mnist2500_labels_shift.txt', labels_shift)"
   ]
  },
  {
   "cell_type": "code",
   "execution_count": 50,
   "metadata": {},
   "outputs": [
    {
     "data": {
      "image/png": "[encoded data removed]",
      "text/plain": [
       "<matplotlib.figure.Figure at 0x7fcc4c8dff28>"
      ]
     },
     "metadata": {},
     "output_type": "display_data"
    }
   ],
   "source": [
    "import matplotlib.pyplot as plt\n",
    "\n",
    "plt.imshow(X_shift[700].reshape(38, 28).T)\n",
    "plt.show()"
   ]
  }
 ],
 "metadata": {
  "kernelspec": {
   "display_name": "Python 3",
   "language": "python",
   "name": "python3"
  },
  "language_info": {
   "codemirror_mode": {
    "name": "ipython",
    "version": 3
   },
   "file_extension": ".py",
   "mimetype": "text/x-python",
   "name": "python",
   "nbconvert_exporter": "python",
   "pygments_lexer": "ipython3",
   "version": "3.5.2"
  }
 },
 "nbformat": 4,
 "nbformat_minor": 2
}
